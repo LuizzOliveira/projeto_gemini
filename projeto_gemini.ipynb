{
  "nbformat": 4,
  "nbformat_minor": 0,
  "metadata": {
    "colab": {
      "provenance": [],
      "authorship_tag": "ABX9TyMQLEmPXICkHVrTHXdL4qF6",
      "include_colab_link": true
    },
    "kernelspec": {
      "name": "python3",
      "display_name": "Python 3"
    },
    "language_info": {
      "name": "python"
    }
  },
  "cells": [
    {
      "cell_type": "markdown",
      "metadata": {
        "id": "view-in-github",
        "colab_type": "text"
      },
      "source": [
        "<a href=\"https://colab.research.google.com/github/LuizzOliveira/projeto_gemini/blob/main/projeto_gemini.ipynb\" target=\"_parent\"><img src=\"https://colab.research.google.com/assets/colab-badge.svg\" alt=\"Open In Colab\"/></a>"
      ]
    },
    {
      "cell_type": "code",
      "execution_count": 1,
      "metadata": {
        "id": "V8ISvHKxMGi7"
      },
      "outputs": [],
      "source": [
        "#inicializando a máquina do google\n",
        "!pip install -q -U google-generativeai"
      ]
    },
    {
      "cell_type": "code",
      "source": [
        "#Criando um cliente para poder usar a IA\n",
        "# Import the Python SDK\n",
        "import google.generativeai as genai\n",
        "from google.colab import userdata\n",
        "chave = userdata.get('SECRET_KEY')\n",
        "#usando chave API\n",
        "\n",
        "genai.configure(api_key=chave)"
      ],
      "metadata": {
        "id": "-6tcz6jWM6IG"
      },
      "execution_count": 43,
      "outputs": []
    },
    {
      "cell_type": "markdown",
      "source": [
        "Listar modelos disponíveis!"
      ],
      "metadata": {
        "id": "ULvFW-2kNKdT"
      }
    },
    {
      "cell_type": "code",
      "source": [
        "for modelo in genai.list_models():\n",
        "  if \"generateContent\" in modelo.supported_generation_methods:\n",
        "    print(modelo.name)"
      ],
      "metadata": {
        "colab": {
          "base_uri": "https://localhost:8080/",
          "height": 144
        },
        "id": "FVDAkJfCNFBI",
        "outputId": "5a2fb820-4d29-4459-e094-38e1d243d0ae",
        "collapsed": true
      },
      "execution_count": 3,
      "outputs": [
        {
          "output_type": "stream",
          "name": "stdout",
          "text": [
            "models/gemini-1.0-pro\n",
            "models/gemini-1.0-pro-001\n",
            "models/gemini-1.0-pro-latest\n",
            "models/gemini-1.0-pro-vision-latest\n",
            "models/gemini-1.5-pro-latest\n",
            "models/gemini-pro\n",
            "models/gemini-pro-vision\n"
          ]
        }
      ]
    },
    {
      "cell_type": "markdown",
      "source": [
        "Inicializando o modelo"
      ],
      "metadata": {
        "id": "ESIgcvGGR026"
      }
    },
    {
      "cell_type": "code",
      "source": [
        "from os import name\n",
        "model = genai.GenerativeModel(model_name=\"gemini-1.0-pro\")"
      ],
      "metadata": {
        "id": "gRlW8v0cQN9Y"
      },
      "execution_count": 4,
      "outputs": []
    },
    {
      "cell_type": "code",
      "source": [
        "#Pergunta com respostas da IA\n",
        "response = model.generate_content(\"Vou fazer um projeto aqui, para imersão alura e google, me dê dicas.\")\n",
        "print(response.text)"
      ],
      "metadata": {
        "collapsed": true,
        "id": "GrQCi8K8TXyA"
      },
      "execution_count": null,
      "outputs": []
    },
    {
      "cell_type": "markdown",
      "source": [
        "Inicializando Chat"
      ],
      "metadata": {
        "id": "1h74JVooUTy5"
      }
    },
    {
      "cell_type": "code",
      "source": [
        "\n",
        "chat = model.start_chat(history=[])\n",
        "\n",
        "prompt= 1\n",
        "while prompt != 6:\n",
        "  pergunta= int(input((\"\\nEscolha uma linguagem para conhecer sua origem:\\n(1)Python \\n(2)JavaScript \\n(3)Java \\n(4)C++ \\n(5)Abrir Chat \\n(6)Sair \\n\\n*****Digite o Número correspondente:***** \\n\")))\n",
        "  print()\n",
        "  if pergunta <1 or pergunta >5:\n",
        "    break\n",
        "  elif pergunta == 1:\n",
        "    prompt = \"Olá, fale sobre a origem da linguagem de Python\"\n",
        "    response = chat.send_message(prompt)\n",
        "    print(\"Resposta:\", response.text, '\\n\\n')\n",
        "\n",
        "  elif pergunta == 2:\n",
        "    prompt = \"Olá, fale sobre a origem da linguagem de JavaScript\"\n",
        "    response = chat.send_message(prompt)\n",
        "    print(\"Resposta:\", response.text, '\\n\\n')\n",
        "\n",
        "  elif pergunta == 3:\n",
        "    prompt = \"Olá, fale sobre a origem da linguagem de Java\"\n",
        "    response = chat.send_message(prompt)\n",
        "    print(\"Resposta:\", response.text, '\\n\\n')\n",
        "\n",
        "  elif pergunta == 4:\n",
        "    prompt = \"Olá, fale sobre a origem da linguagem de C++\"\n",
        "    response = chat.send_message(prompt)\n",
        "    print(\"Resposta:\", response.text, '\\n\\n')\n",
        "\n",
        "  elif pergunta == 5:\n",
        "    prompt = input(\"\\n\\n _____Digite sua pergunta, ou 6 para sair a qualquer momento!____ \\n\\nVocê:\\n\")\n",
        "    while prompt != \"6\":\n",
        "      response = chat.send_message(prompt)\n",
        "      print(\"\\nGemini:\\n \", response.text, '\\n')\n",
        "      prompt = input(\"Você:\\n\")\n",
        "\n"
      ],
      "metadata": {
        "id": "JjpYJHL4UaZB"
      },
      "execution_count": null,
      "outputs": []
    }
  ]
}