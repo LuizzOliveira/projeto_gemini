{
  "nbformat": 4,
  "nbformat_minor": 0,
  "metadata": {
    "colab": {
      "provenance": [],
      "authorship_tag": "ABX9TyMQLEmPXICkHVrTHXdL4qF6",
      "include_colab_link": true
    },
    "kernelspec": {
      "name": "python3",
      "display_name": "Python 3"
    },
    "language_info": {
      "name": "python"
    }
  },
  "cells": [
    {
      "cell_type": "markdown",
      "metadata": {
        "id": "view-in-github",
        "colab_type": "text"
      },
      "source": [
        "<a href=\"https://colab.research.google.com/github/LuizzOliveira/projeto_gemini/blob/main/projeto_gemini.ipynb\" target=\"_parent\"><img src=\"https://colab.research.google.com/assets/colab-badge.svg\" alt=\"Open In Colab\"/></a>"
      ]
    },
    {
      "cell_type": "code",
      "execution_count": 1,
      "metadata": {
        "id": "V8ISvHKxMGi7"
      },
      "outputs": [],
      "source": [
        "#inicializando a máquina do google\n",
        "!pip install -q -U google-generativeai"
      ]
    },
    {
      "cell_type": "code",
      "source": [
        "#Criando um cliente para poder usar a IA\n",
        "# Import the Python SDK\n",
        "import google.generativeai as genai\n",
        "from google.colab import userdata\n",
        "chave = userdata.get('SECRET_KEY')\n",
        "#usando chave API\n",
        "\n",
        "genai.configure(api_key=chave)"
      ],
      "metadata": {
        "id": "-6tcz6jWM6IG"
      },
      "execution_count": 43,
      "outputs": []
    },
    {
      "cell_type": "markdown",
      "source": [
        "Listar modelos disponíveis!"
      ],
      "metadata": {
        "id": "ULvFW-2kNKdT"
      }
    },
    {
      "cell_type": "code",
      "source": [
        "for modelo in genai.list_models():\n",
        "  if \"generateContent\" in modelo.supported_generation_methods:\n",
        "    print(modelo.name)"
      ],
      "metadata": {
        "colab": {
          "base_uri": "https://localhost:8080/",
          "height": 144
        },
        "id": "FVDAkJfCNFBI",
        "outputId": "5a2fb820-4d29-4459-e094-38e1d243d0ae",
        "collapsed": true
      },
      "execution_count": 3,
      "outputs": [
        {
          "output_type": "stream",
          "name": "stdout",
          "text": [
            "models/gemini-1.0-pro\n",
            "models/gemini-1.0-pro-001\n",
            "models/gemini-1.0-pro-latest\n",
            "models/gemini-1.0-pro-vision-latest\n",
            "models/gemini-1.5-pro-latest\n",
            "models/gemini-pro\n",
            "models/gemini-pro-vision\n"
          ]
        }
      ]
    },
    {
      "cell_type": "markdown",
      "source": [
        "Inicializando o modelo"
      ],
      "metadata": {
        "id": "ESIgcvGGR026"
      }
    },
    {
      "cell_type": "code",
      "source": [
        "from os import name\n",
        "model = genai.GenerativeModel(model_name=\"gemini-1.0-pro\")"
      ],
      "metadata": {
        "id": "gRlW8v0cQN9Y"
      },
      "execution_count": 4,
      "outputs": []
    },
    {
      "cell_type": "code",
      "source": [
        "#Pergunta com respostas da IA\n",
        "response = model.generate_content(\"Vou fazer um projeto aqui, para imersão alura e google, me dê dicas.\")\n",
        "print(response.text)"
      ],
      "metadata": {
        "colab": {
          "base_uri": "https://localhost:8080/",
          "height": 0
        },
        "collapsed": true,
        "id": "GrQCi8K8TXyA",
        "outputId": "d8d0aed1-0dab-4451-a507-dd6a0295a8c4"
      },
      "execution_count": 5,
      "outputs": [
        {
          "output_type": "stream",
          "name": "stdout",
          "text": [
            "**Dicas para Projetar um Projeto de Imersão da Alura e Google**\n",
            "\n",
            "**Definindo o Objetivo e Escopo**\n",
            "\n",
            "* Defina claramente o problema ou desafio que seu projeto resolverá.\n",
            "* Determine o escopo do projeto, incluindo funcionalidades, recursos e restrições.\n",
            "* Estabeleça metas realistas e alcançáveis para o projeto.\n",
            "\n",
            "**Pesquisa e Planejamento**\n",
            "\n",
            "* Conduza uma pesquisa completa para entender o contexto do problema e as soluções existentes.\n",
            "* Desenvolva um plano de projeto que descreva as etapas, os marcos e as responsabilidades.\n",
            "* Identifique as tecnologias, ferramentas e recursos necessários para concluir o projeto.\n",
            "\n",
            "**Design e Desenvolvimento**\n",
            "\n",
            "* Siga os princípios de design centrado no usuário para criar uma solução intuitiva e prática.\n",
            "* Use metodologias ágeis para iterar rapidamente e se adaptar às mudanças.\n",
            "* Implemente as funcionalidades do projeto usando as tecnologias e práticas recomendadas.\n",
            "\n",
            "**Testes e Avaliação**\n",
            "\n",
            "* Conduza testes rigorosos para verificar a funcionalidade, desempenho e usabilidade do projeto.\n",
            "* Obtenha feedback dos usuários para identificar áreas de melhoria.\n",
            "* Analise os dados de teste para avaliar o sucesso do projeto em relação às metas estabelecidas.\n",
            "\n",
            "**Documentação e Apresentação**\n",
            "\n",
            "* Documente completamente o processo de design, desenvolvimento e teste do projeto.\n",
            "* Prepare uma apresentação clara e concisa que demonstre o valor e o impacto do projeto.\n",
            "* Compartilhe seus resultados com as partes interessadas relevantes.\n",
            "\n",
            "**Dicas Adicionais**\n",
            "\n",
            "* Colabore com uma equipe diversificada de profissionais para trazer diferentes perspectivas e habilidades.\n",
            "* Aproveite os recursos fornecidos pela Alura e pelo Google, como tutoriais, workshops e suporte técnico.\n",
            "* Busque feedback regular e esteja disposto a fazer ajustes ao longo do caminho.\n",
            "* Não tenha medo de pedir ajuda quando necessário.\n",
            "* Mantenha uma mentalidade de crescimento e aprenda com a experiência.\n"
          ]
        }
      ]
    },
    {
      "cell_type": "markdown",
      "source": [
        "Inicializando Chat"
      ],
      "metadata": {
        "id": "1h74JVooUTy5"
      }
    },
    {
      "cell_type": "code",
      "source": [
        "\n",
        "chat = model.start_chat(history=[])\n",
        "\n",
        "prompt= 1\n",
        "while prompt != 6:\n",
        "  pergunta= int(input((\"\\nEscolha uma linguagem para conhecer sua origem:\\n(1)Python \\n(2)JavaScript \\n(3)Java \\n(4)C++ \\n(5)Abrir Chat \\n(6)Sair \\n\\n*****Digite o Número correspondente:***** \\n\")))\n",
        "  print()\n",
        "  if pergunta <1 or pergunta >5:\n",
        "    break\n",
        "  elif pergunta == 1:\n",
        "    prompt = \"Olá, fale sobre a origem da linguagem de Python\"\n",
        "    response = chat.send_message(prompt)\n",
        "    print(\"Resposta:\", response.text, '\\n\\n')\n",
        "\n",
        "  elif pergunta == 2:\n",
        "    prompt = \"Olá, fale sobre a origem da linguagem de JavaScript\"\n",
        "    response = chat.send_message(prompt)\n",
        "    print(\"Resposta:\", response.text, '\\n\\n')\n",
        "\n",
        "  elif pergunta == 3:\n",
        "    prompt = \"Olá, fale sobre a origem da linguagem de Java\"\n",
        "    response = chat.send_message(prompt)\n",
        "    print(\"Resposta:\", response.text, '\\n\\n')\n",
        "\n",
        "  elif pergunta == 4:\n",
        "    prompt = \"Olá, fale sobre a origem da linguagem de C++\"\n",
        "    response = chat.send_message(prompt)\n",
        "    print(\"Resposta:\", response.text, '\\n\\n')\n",
        "\n",
        "  elif pergunta == 5:\n",
        "    prompt = input(\"\\n\\n _____Digite sua pergunta, ou 6 para sair a qualquer momento!____ \\n\\nVocê:\\n\")\n",
        "    while prompt != \"6\":\n",
        "      response = chat.send_message(prompt)\n",
        "      print(\"\\nGemini:\\n \", response.text, '\\n')\n",
        "      prompt = input(\"Você:\\n\")\n",
        "\n"
      ],
      "metadata": {
        "colab": {
          "base_uri": "https://localhost:8080/",
          "height": 1000
        },
        "collapsed": true,
        "id": "JjpYJHL4UaZB",
        "outputId": "3df1add2-2bdc-491f-d045-cd6c1a806244"
      },
      "execution_count": 41,
      "outputs": [
        {
          "output_type": "stream",
          "name": "stdout",
          "text": [
            "\n",
            "Escolha uma linguagem para conhecer sua origem:\n",
            "(1)Python \n",
            "(2)JavaScript \n",
            "(3)Java \n",
            "(4)C++ \n",
            "(5)Abrir Chat \n",
            "(6)Sair \n",
            "\n",
            "*****Digite o Número correspondente:***** \n",
            "5\n",
            "\n",
            "\n",
            "\n",
            " _____Digite sua pergunta, ou 6 para sair a qualquer momento!____ \n",
            "\n",
            "Você:\n",
            "qual a ultima vitória da imperial cs\n",
            "\n",
            "Gemini:\n",
            "  16 de maio de 2022 \n",
            "\n",
            "Você:\n",
            "qual é o ano atualização \n",
            "\n",
            "Gemini:\n",
            "  2023 \n",
            "\n",
            "Você:\n",
            "como foi a partida\n",
            "\n",
            "Gemini:\n",
            "  **Imperial Esports vs. paiN Gaming**\n",
            "\n",
            "**Data:** 16 de maio de 2022\n",
            "\n",
            "**Torneio:** ESL Pro League Season 16\n",
            "\n",
            "**Mapa:** Mirage\n",
            "\n",
            "**Placar:** 2-0 (16-7, 16-11)\n",
            "\n",
            "**Resumo da partida:**\n",
            "\n",
            "* A Imperial dominou o primeiro mapa, Mirage, vencendo por 16-7, com FalleN liderando o placar com 22 abates.\n",
            "* No segundo mapa, paiN conseguiu um início mais forte, mas a Imperial se recuperou e venceu por 16-11.\n",
            "* Fer foi o destaque da Imperial no segundo mapa, com 24 abates.\n",
            "* A vitória marcou o fim de uma sequência de seis derrotas consecutivas para a Imperial.\n",
            "\n",
            "**Escalações:**\n",
            "\n",
            "**Imperial Esports:**\n",
            "\n",
            "* FalleN\n",
            "* fer\n",
            "* VINI\n",
            "* boltz\n",
            "* chelo\n",
            "\n",
            "**paiN Gaming:**\n",
            "\n",
            "* trk\n",
            "* HEN1\n",
            "* LUCAS1\n",
            "* NEKIZ\n",
            "* Saffee \n",
            "\n",
            "Você:\n",
            "6\n",
            "\n",
            "Escolha uma linguagem para conhecer sua origem:\n",
            "(1)Python \n",
            "(2)JavaScript \n",
            "(3)Java \n",
            "(4)C++ \n",
            "(5)Abrir Chat \n",
            "(6)Sair \n",
            "\n",
            "*****Digite o Número correspondente:***** \n",
            "6\n",
            "\n"
          ]
        }
      ]
    }
  ]
}