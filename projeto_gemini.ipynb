{
  "nbformat": 4,
  "nbformat_minor": 0,
  "metadata": {
    "colab": {
      "provenance": [],
      "authorship_tag": "ABX9TyMnlRsokv1FervR94jkYbet",
      "include_colab_link": true
    },
    "kernelspec": {
      "name": "python3",
      "display_name": "Python 3"
    },
    "language_info": {
      "name": "python"
    }
  },
  "cells": [
    {
      "cell_type": "markdown",
      "metadata": {
        "id": "view-in-github",
        "colab_type": "text"
      },
      "source": [
        "<a href=\"https://colab.research.google.com/github/LuizzOliveira/projeto_gemini/blob/main/projeto_gemini.ipynb\" target=\"_parent\"><img src=\"https://colab.research.google.com/assets/colab-badge.svg\" alt=\"Open In Colab\"/></a>"
      ]
    },
    {
      "cell_type": "code",
      "execution_count": 1,
      "metadata": {
        "id": "V8ISvHKxMGi7"
      },
      "outputs": [],
      "source": [
        "#inicializando a máquina do google\n",
        "!pip install -q -U google-generativeai"
      ]
    },
    {
      "cell_type": "code",
      "source": [
        "#Criando um cliente para poder usar a IA\n",
        "# Import the Python SDK\n",
        "import google.generativeai as genai\n",
        "from google.colab import userdata\n",
        "chave = userdata.get('SECRET_KEY')\n",
        "#usando chave API\n",
        "\n",
        "genai.configure(api_key=chave)"
      ],
      "metadata": {
        "id": "-6tcz6jWM6IG"
      },
      "execution_count": 9,
      "outputs": []
    },
    {
      "cell_type": "markdown",
      "source": [
        "Inicializando o modelo"
      ],
      "metadata": {
        "id": "ESIgcvGGR026"
      }
    },
    {
      "cell_type": "code",
      "source": [
        "from os import name\n",
        "model = genai.GenerativeModel(model_name=\"gemini-1.0-pro\")"
      ],
      "metadata": {
        "id": "gRlW8v0cQN9Y"
      },
      "execution_count": 7,
      "outputs": []
    },
    {
      "cell_type": "markdown",
      "source": [
        "Inicializando Chat"
      ],
      "metadata": {
        "id": "1h74JVooUTy5"
      }
    },
    {
      "cell_type": "code",
      "source": [
        "\n",
        "chat = model.start_chat(history=[])\n",
        "\n",
        "prompt= 1\n",
        "while prompt != 6:\n",
        "  pergunta= int(input((\"\\nEscolha uma linguagem para conhecer sua origem:\\n(1)Python \\n(2)JavaScript \\n(3)Java \\n(4)C++ \\n(5)Abrir Chat \\n(6)Sair \\n\\n*****Digite o Número correspondente:***** \\n\")))\n",
        "  print()\n",
        "  if pergunta <1 or pergunta >5:\n",
        "    break\n",
        "  elif pergunta == 1:\n",
        "    prompt = \"Olá, fale sobre a origem da linguagem de Python\"\n",
        "    response = chat.send_message(prompt)\n",
        "    print(\"Resposta:\", response.text, '\\n\\n')\n",
        "\n",
        "  elif pergunta == 2:\n",
        "    prompt = \"Olá, fale sobre a origem da linguagem de JavaScript\"\n",
        "    response = chat.send_message(prompt)\n",
        "    print(\"Resposta:\", response.text, '\\n\\n')\n",
        "\n",
        "  elif pergunta == 3:\n",
        "    prompt = \"Olá, fale sobre a origem da linguagem de Java\"\n",
        "    response = chat.send_message(prompt)\n",
        "    print(\"Resposta:\", response.text, '\\n\\n')\n",
        "\n",
        "  elif pergunta == 4:\n",
        "    prompt = \"Olá, fale sobre a origem da linguagem de C++\"\n",
        "    response = chat.send_message(prompt)\n",
        "    print(\"Resposta:\", response.text, '\\n\\n')\n",
        "\n",
        "  elif pergunta == 5:\n",
        "    prompt = input(\"\\n\\n _____Digite sua pergunta, ou 6 para sair a qualquer momento!____ \\n\\nVocê:\\n\")\n",
        "    while prompt != \"6\":\n",
        "      response = chat.send_message(prompt)\n",
        "      print(\"\\nGemini:\\n \", response.text, '\\n')\n",
        "      prompt = input(\"Você:\\n\")\n",
        "\n"
      ],
      "metadata": {
        "id": "JjpYJHL4UaZB"
      },
      "execution_count": null,
      "outputs": []
    }
  ]
}