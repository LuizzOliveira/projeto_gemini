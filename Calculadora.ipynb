{
  "nbformat": 4,
  "nbformat_minor": 0,
  "metadata": {
    "colab": {
      "provenance": [],
      "authorship_tag": "ABX9TyP4iITlJJSmzD4X76DeLb6M",
      "include_colab_link": true
    },
    "kernelspec": {
      "name": "python3",
      "display_name": "Python 3"
    },
    "language_info": {
      "name": "python"
    }
  },
  "cells": [
    {
      "cell_type": "markdown",
      "metadata": {
        "id": "view-in-github",
        "colab_type": "text"
      },
      "source": [
        "<a href=\"https://colab.research.google.com/github/LuizzOliveira/projeto_gemini/blob/main/Calculadora.ipynb\" target=\"_parent\"><img src=\"https://colab.research.google.com/assets/colab-badge.svg\" alt=\"Open In Colab\"/></a>"
      ]
    },
    {
      "cell_type": "code",
      "execution_count": null,
      "metadata": {
        "id": "J6fOGcCp8Z7M"
      },
      "outputs": [],
      "source": [
        "\n",
        "# Faça um programa de calculadora simples com as seguintes operações\n",
        "# possíveis: adição, subtração, multiplicação e divisão. O programa inicia\n",
        "# apresentando ao usuário um menu de opções como mostrado abaixo:\n",
        "\n",
        "# **********************************************************************\n",
        "# * Calculadora. Opções possíveis:\n",
        "# * 1. Adição\n",
        "# * 2. Subtração\n",
        "# * 3. Multiplicação\n",
        "# * 4. Divisão\n",
        "# * 5. Sair do programa\n",
        "# *********************************************************************\n",
        "# Informe a opção desejada:\n",
        "\n",
        "\n",
        "# A opção informada é então analisada e o programa executa a operação apropriada,\n",
        "# se a opção for inválida, informe ao usuário e peça a ele para entrar com uma\n",
        "# opção válida.\n",
        "# Após a execução da operação o programa volta a apresentar o menu inicial até\n",
        "# que o usuário encerre o programa com a opção 5.\n",
        "\n",
        "menu= 0\n",
        "while menu < 5 or menu >0:\n",
        "    menu= float(input(\"*********************************\\nCalculadora | Escolha uma opção: \\n1. Adição   \\n2. Subtração \\n3. Multiplicação \\n4. Divisão \\n5. Sair do programa \\n********************************\\n Informe a Opção desejada:\\n\"))\n",
        "    if menu >5 or menu<1:\n",
        "        print(\"Opção inválido\")\n",
        "    if menu == 5:\n",
        "        print(\"Você Saiu!\")\n",
        "        break\n",
        "    elif menu == 1:\n",
        "    #Operação Soma\n",
        "        num_adicao1= float(input(\"Informe o primeiro numero para fazer a operação: \"))\n",
        "        num_adicao2= float(input(\"Informe segundo numero para fazer a operação: \"))\n",
        "        resultado_adicao= num_adicao1 + num_adicao2\n",
        "        print(f\"Resultado: {num_adicao1} + {num_adicao2} = {resultado_adicao}\\n********************************\")\n",
        "\n",
        "    elif menu ==2 :\n",
        "    #OPeração Subtração\n",
        "        num_subtracao1= float(input(\"Informe o primeiro numero para fazer a operação: \\n\"))\n",
        "        num_subtracao2= float(input(\"Informe segundo numero para fazer a operação: \\n\"))\n",
        "        if num_subtracao2 > num_subtracao1:\n",
        "            resultado_subtracao=num_subtracao2 - num_subtracao1\n",
        "            print(f\"Resultado: {num_subtracao1} - {num_subtracao2} = {resultado_subtracao} \\n********************\")\n",
        "        else:\n",
        "            resultado_subtracao= num_subtracao1 - num_subtracao2\n",
        "            print(f\"Resultado: {num_subtracao1} - {num_subtracao2} = {resultado_subtracao} \\n********************\")\n",
        "\n",
        "    elif menu == 3:\n",
        "    #Operação multiplicação\n",
        "        num_multiplicacao1= float(input(\"Informe o primeiro numero para fazer a operação:\\n \"))\n",
        "        num_multiplicacao2= float(input(\"Informe segundo numero para fazer a operação: \\n\"))\n",
        "        resultado_multiplicacao= num_multiplicacao1 * num_multiplicacao2\n",
        "        print(f\"Resultado: {num_multiplicacao1} x {num_multiplicacao2} = {resultado_multiplicacao} \\n********************\")\n",
        "\n",
        "    elif menu == 4:\n",
        "    #Operação divisão\n",
        "        num_divisao1= float(input(\"Informe o numero para ser dividido: \\n\"))\n",
        "        num_divisao2= float(input(\"Informe o divisor para fazer a operação: \\n\"))\n",
        "        if num_divisao2 != 0:\n",
        "            resultado_divisao= num_divisao1 / num_divisao2\n",
        "            print(f\"Resultado: {num_divisao1} / {num_divisao2} = {resultado_divisao}\\n********************\")\n",
        "        else:\n",
        "            print(\"Divisor precisa ser diferente de Zero \")"
      ]
    },
    {
      "cell_type": "code",
      "source": [],
      "metadata": {
        "id": "YB_H8rPT-1Gp"
      },
      "execution_count": null,
      "outputs": []
    }
  ]
}